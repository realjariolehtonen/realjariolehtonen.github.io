{
 "cells": [
  {
   "cell_type": "markdown",
   "id": "1e5c75bc",
   "metadata": {},
   "source": [
    "# 🛠️ Preventative Maintenance AI Model (Simulated on macOS)\n",
    "This notebook simulates an AI model designed for predictive maintenance, originally targeted for STM32 embedded deployment. We reconstruct a version that can run locally on a macOS system using Python and TensorFlow.\n",
    "\n",
    "It covers:\n",
    "- Creation of a sample 1D CNN model using Keras\n",
    "- Generation of mock vibration sensor data\n",
    "- Training the model to distinguish between 'normal' and 'faulty' conditions\n",
    "- Saving and converting the model to TensorFlow Lite format\n",
    "- Running inference using TFLite (via TensorFlow)\n",
    "\n",
    "Let's get started!\n"
   ]
  },
  {
   "cell_type": "markdown",
   "id": "da18020e",
   "metadata": {},
   "source": [
    "## 🔧 Step 1: Create the AI Model\n",
    "We define a simple 1D Convolutional Neural Network using Keras. This model mimics the kind of lightweight model that could be deployed on microcontrollers for vibration-based anomaly detection."
   ]
  },
  {
   "cell_type": "code",
   "execution_count": null,
   "id": "20d4ae45",
   "metadata": {},
   "outputs": [],
   "source": [
    "import tensorflow as tf\n",
    "from tensorflow.keras import layers, models\n",
    "\n",
    "# Define a function to create the model\n",
    "def create_mock_model(input_shape=(128, 3)):\n",
    "    # Sequential model: good for simple stack of layers\n",
    "    model = models.Sequential([\n",
    "        layers.Input(shape=input_shape),                     # Input layer expects 128 timesteps, 3 features (axes)\n",
    "        layers.Conv1D(16, 3, activation='relu'),             # First 1D convolutional layer with 16 filters\n",
    "        layers.MaxPooling1D(2),                              # Downsample by factor of 2\n",
    "        layers.Conv1D(32, 3, activation='relu'),             # Second convolutional layer\n",
    "        layers.GlobalMaxPooling1D(),                         # Reduce to 1D by taking max across time\n",
    "        layers.Dense(64, activation='relu'),                 # Fully connected dense layer\n",
    "        layers.Dense(1, activation='sigmoid')                # Output layer: sigmoid for binary classification\n",
    "    ])\n",
    "    # Compile model with loss and optimizer\n",
    "    model.compile(optimizer='adam', loss='binary_crossentropy', metrics=['accuracy'])\n",
    "    return model\n",
    "\n",
    "# Create the model\n",
    "model = create_mock_model()\n",
    "\n",
    "# Print summary of the architecture\n",
    "model.summary()"
   ]
  },
  {
   "cell_type": "markdown",
   "id": "8b129a2d",
   "metadata": {},
   "source": [
    "## 📊 Step 2: Generate Synthetic Sensor Data\n",
    "We simulate accelerometer data for two classes:\n",
    "- **Normal** operation\n",
    "- **Abnormal** condition (indicating possible failure)\n",
    "\n",
    "Each sample has 128 time steps and 3 axes (X, Y, Z) to match typical 3-axis sensor input."
   ]
  },
  {
   "cell_type": "code",
   "execution_count": null,
   "id": "89d9fad6",
   "metadata": {},
   "outputs": [],
   "source": [
    "import numpy as np\n",
    "\n",
    "# Create 10 normal samples: low mean and low variance\n",
    "normal_data = np.random.normal(loc=0.0, scale=1.0, size=(10, 128, 3))\n",
    "\n",
    "# Create 10 abnormal samples: higher mean and variance to simulate more vibration\n",
    "abnormal_data = np.random.normal(loc=2.0, scale=1.5, size=(10, 128, 3))\n",
    "\n",
    "# Combine the data into one dataset\n",
    "X = np.concatenate([normal_data, abnormal_data])\n",
    "\n",
    "# Labels: 0 for normal, 1 for abnormal\n",
    "y = np.array([0]*10 + [1]*10)"
   ]
  },
  {
   "cell_type": "markdown",
   "id": "01b4628f",
   "metadata": {},
   "source": [
    "## 🧠 Step 3: Train the Model\n",
    "Now, we train the model on our synthetic dataset. Since it's a small mock dataset, we use a few epochs for quick iteration."
   ]
  },
  {
   "cell_type": "code",
   "execution_count": null,
   "id": "3d0beb25",
   "metadata": {},
   "outputs": [],
   "source": [
    "# Train the model using the synthetic data\n",
    "model.fit(X, y, epochs=10, batch_size=4, verbose=1)"
   ]
  },
  {
   "cell_type": "markdown",
   "id": "2e8fabd9",
   "metadata": {},
   "source": [
    "## 💾 Step 4: Save the Model\n",
    "We save the model in native Keras format, which can be reused or converted for deployment."
   ]
  },
  {
   "cell_type": "code",
   "execution_count": null,
   "id": "8becccda",
   "metadata": {},
   "outputs": [],
   "source": [
    "# Save the trained model to file\n",
    "model.save(\"preventative_maintenance_model.keras\")"
   ]
  },
  {
   "cell_type": "markdown",
   "id": "13d8f7b8",
   "metadata": {},
   "source": [
    "## 🔁 Step 5: Convert to TensorFlow Lite\n",
    "TensorFlow Lite allows us to run inference on lightweight devices or in optimized environments.\n",
    "\n",
    "Here, we convert the Keras model to `.tflite` format."
   ]
  },
  {
   "cell_type": "code",
   "execution_count": null,
   "id": "bde771cd",
   "metadata": {},
   "outputs": [],
   "source": [
    "# Convert the model to TFLite format\n",
    "converter = tf.lite.TFLiteConverter.from_keras_model(model)\n",
    "tflite_model = converter.convert()\n",
    "\n",
    "# Save the TFLite model to disk\n",
    "with open(\"preventative_maintenance_model.tflite\", \"wb\") as f:\n",
    "    f.write(tflite_model)"
   ]
  },
  {
   "cell_type": "markdown",
   "id": "960805d6",
   "metadata": {},
   "source": [
    "## 🤖 Step 6: Run Inference with TensorFlow Lite\n",
    "Now, we load the `.tflite` model and run inference on one of the abnormal samples.\n",
    "\n",
    "> 💡 We're using full TensorFlow here instead of `tflite_runtime` for compatibility on macOS."
   ]
  },
  {
   "cell_type": "code",
   "execution_count": null,
   "id": "52f10f29",
   "metadata": {},
   "outputs": [],
   "source": [
    "# Import interpreter from full TensorFlow\n",
    "from tensorflow.lite.python.interpreter import Interpreter\n",
    "\n",
    "# Load the model\n",
    "interpreter = Interpreter(model_path=\"preventative_maintenance_model.tflite\")\n",
    "interpreter.allocate_tensors()\n",
    "\n",
    "# Get input/output tensor info\n",
    "input_details = interpreter.get_input_details()\n",
    "output_details = interpreter.get_output_details()\n",
    "\n",
    "# Prepare one abnormal sample for prediction\n",
    "sample = abnormal_data[0:1].astype(np.float32)\n",
    "\n",
    "# Run inference\n",
    "interpreter.set_tensor(input_details[0]['index'], sample)\n",
    "interpreter.invoke()\n",
    "\n",
    "# Get output\n",
    "output = interpreter.get_tensor(output_details[0]['index'])\n",
    "print(\"Prediction (1 = needs maintenance):\", output)"
   ]
  }
 ],
 "metadata": {},
 "nbformat": 4,
 "nbformat_minor": 5
}
